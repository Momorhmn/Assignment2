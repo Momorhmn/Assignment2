{
 "cells": [
  {
   "cell_type": "code",
   "execution_count": 2,
   "id": "a6857c60",
   "metadata": {},
   "outputs": [],
   "source": [
    "%load_ext autoreload\n",
    "%autoreload 2\n",
    "\n",
    "import pandas as pd\n",
    "pd.set_option(\"display.max_rows\", 101)\n",
    "pd.set_option(\"display.max_columns\", 101)\n",
    "\n",
    "import matplotlib.pyplot as plt"
   ]
  },
  {
   "cell_type": "code",
   "execution_count": 83,
   "id": "d2b01551",
   "metadata": {},
   "outputs": [
    {
     "data": {
      "text/plain": [
       "<function matplotlib.pyplot.show(close=None, block=None)>"
      ]
     },
     "execution_count": 83,
     "metadata": {},
     "output_type": "execute_result"
    },
    {
     "data": {
      "image/png": "[encoded data removed]",
      "text/plain": [
       "<Figure size 1584x720 with 1 Axes>"
      ]
     },
     "metadata": {
      "needs_background": "light"
     },
     "output_type": "display_data"
    }
   ],
   "source": [
    "plt.figure(figsize=(22,10))\n",
    "ax=plt.axes()\n",
    "ax.set_facecolor('green')\n",
    "\n",
    "#clearance sideline\n",
    "plt.plot(4,4)\n",
    "plt.plot(45,25)\n",
    "plt.plot(4,25)\n",
    "plt.plot(45,4)\n",
    "plt.plot([4,4,45,45,4],[4,25,25,4,4],linestyle='dashed',color='white')\n",
    "\n",
    "#doubles horizontal+vertical sideline\n",
    "plt.plot(6,6)\n",
    "plt.plot(6,23)\n",
    "plt.plot(43,6)\n",
    "plt.plot(43,23)\n",
    "plt.plot([6,6,43,43,6],[6,23,23,6,6],linestyle='solid',color='white')\n",
    "\n",
    "#singles horizontal sidelines\n",
    "plt.plot(6,21.5)\n",
    "plt.plot(6,7.5)\n",
    "plt.plot(43,21.5)\n",
    "plt.plot(43,7.5)\n",
    "plt.plot([6,43],[21.5,21.5],linestyle='solid',color='white')\n",
    "plt.plot([6,43],[7.5,7.5],linestyle='solid',color='white')\n",
    "\n",
    "#singles vertical sidelines\n",
    "plt.plot(8,6)\n",
    "plt.plot(8,23)\n",
    "plt.plot([8,8],[6,23],linestyle='solid',color='white')\n",
    "plt.plot(41,6)\n",
    "plt.plot(41,23)\n",
    "plt.plot([41,41],[6,23],linestyle='solid',color='white')\n",
    "\n",
    "#net line\n",
    "plt.plot([24.5,24.5],[6,23],linestyle='solid',linewidth=5,color='white')\n",
    "\n",
    "#seperating the field into 3 equal parts\n",
    "#38/3\n",
    "plt.plot([18.5,18.5],[6,23],linestyle='solid',color='white')\n",
    "plt.plot([31,31],[6,23],linestyle='solid',color='white')\n",
    "\n",
    "#splitting each side into 2\n",
    "#18/2\n",
    "plt.plot([6,18.5],[15,15],linestyle='solid',color='white')\n",
    "plt.plot([31,43],[15,15],linestyle='solid',color='white')\n",
    "\n",
    "\n",
    "plt.title(\"Badminton court\", size=25)\n",
    "plt.xlim(1,48)\n",
    "plt.ylim(1,28)\n",
    "plt.show"
   ]
  },
  {
   "cell_type": "code",
   "execution_count": null,
   "id": "27793560",
   "metadata": {},
   "outputs": [],
   "source": [
    "\n",
    "\n"
   ]
  },
  {
   "cell_type": "code",
   "execution_count": null,
   "id": "dbcb5835",
   "metadata": {},
   "outputs": [],
   "source": []
  },
  {
   "cell_type": "code",
   "execution_count": null,
   "id": "8ac53833",
   "metadata": {},
   "outputs": [],
   "source": []
  },
  {
   "cell_type": "code",
   "execution_count": null,
   "id": "fc38b01e",
   "metadata": {},
   "outputs": [],
   "source": []
  },
  {
   "cell_type": "code",
   "execution_count": null,
   "id": "9d0151b7",
   "metadata": {},
   "outputs": [],
   "source": []
  },
  {
   "cell_type": "code",
   "execution_count": null,
   "id": "ca6f401d",
   "metadata": {},
   "outputs": [],
   "source": []
  },
  {
   "cell_type": "code",
   "execution_count": null,
   "id": "c309dbe9",
   "metadata": {},
   "outputs": [],
   "source": []
  },
  {
   "cell_type": "code",
   "execution_count": null,
   "id": "7e08d7bc",
   "metadata": {},
   "outputs": [],
   "source": []
  },
  {
   "cell_type": "code",
   "execution_count": null,
   "id": "24c81592",
   "metadata": {},
   "outputs": [],
   "source": [
    "\n"
   ]
  },
  {
   "cell_type": "code",
   "execution_count": null,
   "id": "b6eddc39",
   "metadata": {},
   "outputs": [],
   "source": []
  },
  {
   "cell_type": "code",
   "execution_count": null,
   "id": "8c68e131",
   "metadata": {},
   "outputs": [],
   "source": []
  },
  {
   "cell_type": "code",
   "execution_count": null,
   "id": "7cb550a4",
   "metadata": {},
   "outputs": [],
   "source": []
  },
  {
   "cell_type": "code",
   "execution_count": null,
   "id": "875198bb",
   "metadata": {},
   "outputs": [],
   "source": []
  }
 ],
 "metadata": {
  "kernelspec": {
   "display_name": "Python 3 (ipykernel)",
   "language": "python",
   "name": "python3"
  },
  "language_info": {
   "codemirror_mode": {
    "name": "ipython",
    "version": 3
   },
   "file_extension": ".py",
   "mimetype": "text/x-python",
   "name": "python",
   "nbconvert_exporter": "python",
   "pygments_lexer": "ipython3",
   "version": "3.9.12"
  }
 },
 "nbformat": 4,
 "nbformat_minor": 5
}
